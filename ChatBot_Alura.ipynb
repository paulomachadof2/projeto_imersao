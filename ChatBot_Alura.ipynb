{
  "nbformat": 4,
  "nbformat_minor": 0,
  "metadata": {
    "colab": {
      "provenance": [],
      "authorship_tag": "ABX9TyMciwXYuW151Wzkw3H2r/L1",
      "include_colab_link": true
    },
    "kernelspec": {
      "name": "python3",
      "display_name": "Python 3"
    },
    "language_info": {
      "name": "python"
    }
  },
  "cells": [
    {
      "cell_type": "markdown",
      "metadata": {
        "id": "view-in-github",
        "colab_type": "text"
      },
      "source": [
        "<a href=\"https://colab.research.google.com/github/paulomachadof2/projeto_imersao/blob/main/ChatBot_Alura.ipynb\" target=\"_parent\"><img src=\"https://colab.research.google.com/assets/colab-badge.svg\" alt=\"Open In Colab\"/></a>"
      ]
    },
    {
      "cell_type": "markdown",
      "source": [
        "Instalando o SDK do Google"
      ],
      "metadata": {
        "id": "Mj2O8tOmdgk4"
      }
    },
    {
      "cell_type": "code",
      "execution_count": 1,
      "metadata": {
        "id": "asdx2awdbcza"
      },
      "outputs": [],
      "source": [
        "!pip install -q -U google-generativeai"
      ]
    },
    {
      "cell_type": "code",
      "source": [
        "import pathlib\n",
        "import textwrap\n",
        "\n",
        "import google.generativeai as genai\n",
        "\n",
        "from IPython.display import display\n",
        "from IPython.display import Markdown\n",
        "\n",
        "\n",
        "def to_markdown(text):\n",
        "  text = text.replace('•', '  *')\n",
        "  return Markdown(textwrap.indent(text, '> ', predicate=lambda _: True))"
      ],
      "metadata": {
        "id": "ujlYC3TAdkfH"
      },
      "execution_count": 7,
      "outputs": []
    },
    {
      "cell_type": "code",
      "source": [
        "# Used to securely store your API key\n",
        "from google.colab import userdata"
      ],
      "metadata": {
        "id": "Lsfrt1zOdtAx"
      },
      "execution_count": 8,
      "outputs": []
    },
    {
      "cell_type": "code",
      "source": [
        "# Or use `os.getenv('GOOGLE_API_KEY')` to fetch an environment variable.\n",
        "GOOGLE_API_KEY=userdata.get('apikey')\n",
        "\n",
        "\n",
        "genai.configure(api_key=GOOGLE_API_KEY)"
      ],
      "metadata": {
        "id": "8RufRVEQd23j"
      },
      "execution_count": 9,
      "outputs": []
    },
    {
      "cell_type": "markdown",
      "source": [
        "Listando os Modelos"
      ],
      "metadata": {
        "id": "ga90JezQeBGx"
      }
    },
    {
      "cell_type": "code",
      "source": [
        "for m in genai.list_models():\n",
        "  if 'generateContent' in m.supported_generation_methods:\n",
        "    print(m.name)"
      ],
      "metadata": {
        "colab": {
          "base_uri": "https://localhost:8080/",
          "height": 139
        },
        "id": "m9mjcYlkeDuX",
        "outputId": "008a7d4a-62eb-4ffc-c661-a1b716e57fe5"
      },
      "execution_count": 10,
      "outputs": [
        {
          "output_type": "stream",
          "name": "stdout",
          "text": [
            "models/gemini-1.0-pro\n",
            "models/gemini-1.0-pro-001\n",
            "models/gemini-1.0-pro-latest\n",
            "models/gemini-1.0-pro-vision-latest\n",
            "models/gemini-1.5-pro-latest\n",
            "models/gemini-pro\n",
            "models/gemini-pro-vision\n"
          ]
        }
      ]
    },
    {
      "cell_type": "code",
      "source": [
        "configuracoes = {\n",
        "    \"candidate_count\": 1,\n",
        "    \"temperature\": 0.5,\n",
        "}"
      ],
      "metadata": {
        "id": "ZsEWBxsMf2nh"
      },
      "execution_count": 15,
      "outputs": []
    },
    {
      "cell_type": "code",
      "source": [
        "seguranca = {\n",
        "    \"HARASSMENT\": \"BLOCK_NONE\",\n",
        "    \"HATE\": \"BLOCK_NONE\",\n",
        "    \"SEXUAL\": \"BLOCK_NONE\",\n",
        "    \"DANGEROUS\": \"BLOCK_NONE\",\n",
        "}"
      ],
      "metadata": {
        "id": "qWRypi3XhH5G"
      },
      "execution_count": 16,
      "outputs": []
    },
    {
      "cell_type": "markdown",
      "source": [
        "Inicializando o modelo"
      ],
      "metadata": {
        "id": "sU4EdppsiZEi"
      }
    },
    {
      "cell_type": "code",
      "source": [
        "model = genai.GenerativeModel(model_name=\"gemini-1.0-pro\",\n",
        "                              generation_config=configuracoes,\n",
        "                              safety_settings=seguranca\n",
        "                              )"
      ],
      "metadata": {
        "id": "ww-TVJOzibSr"
      },
      "execution_count": 17,
      "outputs": []
    },
    {
      "cell_type": "markdown",
      "source": [
        "Inserindo o INPUT de resposta"
      ],
      "metadata": {
        "id": "iJIwb0IxkahR"
      }
    },
    {
      "cell_type": "code",
      "source": [
        "response = model.generate_content(\"Como me tornar um especialista em IA?\")\n",
        "print(response.text)"
      ],
      "metadata": {
        "colab": {
          "base_uri": "https://localhost:8080/",
          "height": 850
        },
        "id": "k1v6L5nDkeNR",
        "outputId": "534de4d5-dc68-4f13-d3e8-d78fa963a8e8"
      },
      "execution_count": 18,
      "outputs": [
        {
          "output_type": "stream",
          "name": "stdout",
          "text": [
            "**Passo 1: Obtenha uma base sólida em fundamentos**\n",
            "\n",
            "* Matemática: Cálculo, Álgebra Linear, Estatística\n",
            "* Ciência da Computação: Estruturas de Dados, Algoritmos, Programação\n",
            "* Aprendizado de Máquina: Aprendizado Supervisionado e Não Supervisionado, Modelos de Aprendizado Profundo\n",
            "\n",
            "**Passo 2: Escolha uma especialização**\n",
            "\n",
            "* Visão Computacional\n",
            "* Processamento de Linguagem Natural\n",
            "* Aprendizado por Reforço\n",
            "* IA Ética e Responsável\n",
            "\n",
            "**Passo 3: Obtenha experiência prática**\n",
            "\n",
            "* Trabalhe em projetos de IA\n",
            "* Participe de competições de IA\n",
            "* Contribua para projetos de código aberto\n",
            "\n",
            "**Passo 4: Educação formal**\n",
            "\n",
            "* Mestrado ou Doutorado em Ciência da Computação ou Inteligência Artificial\n",
            "* Cursos online e certificações de plataformas como Coursera, edX e Udacity\n",
            "\n",
            "**Passo 5: Desenvolva habilidades complementares**\n",
            "\n",
            "* Comunicação e apresentação\n",
            "* Trabalho em equipe e colaboração\n",
            "* Pensamento crítico e resolução de problemas\n",
            "* Compreensão do domínio da aplicação\n",
            "\n",
            "**Passo 6: Mantenha-se atualizado**\n",
            "\n",
            "* Leia artigos de pesquisa e participe de conferências\n",
            "* Experimente novas tecnologias e ferramentas\n",
            "* Faça cursos de atualização para aprimorar suas habilidades\n",
            "\n",
            "**Recursos adicionais:**\n",
            "\n",
            "* [Roadmap de Especialista em IA](https://www.coursera.org/specializations/ai-specialization)\n",
            "* [Como se tornar um especialista em IA](https://www.udacity.com/school-of-ai)\n",
            "* [Guia para se tornar um especialista em IA](https://www.springboard.com/blog/how-to-become-an-ai-expert/)\n",
            "\n",
            "**Lembre-se:**\n",
            "\n",
            "* Tornar-se um especialista em IA é uma jornada contínua que requer dedicação e trabalho duro.\n",
            "* Mantenha-se curioso, explore novas áreas e nunca pare de aprender.\n",
            "* Conecte-se com outros especialistas em IA para compartilhar conhecimentos e colaborar em projetos.\n"
          ]
        }
      ]
    },
    {
      "cell_type": "code",
      "source": [
        "chat = model.start_chat(history=[])"
      ],
      "metadata": {
        "id": "8jFbmM5IlmUR"
      },
      "execution_count": 19,
      "outputs": []
    },
    {
      "cell_type": "code",
      "source": [
        "prompt = input(\"Esperando prompt: \")\n",
        "\n",
        "while prompt != \"fim\":\n",
        "  response = chat.send_message(prompt)\n",
        "  print(\"Resposta: \", response.text, \"\\n\")\n",
        "  prompt = input(\"Esperando prompt: \")"
      ],
      "metadata": {
        "colab": {
          "base_uri": "https://localhost:8080/",
          "height": 1000
        },
        "id": "VFdN9boKmc5q",
        "outputId": "5413b497-1069-4c94-d23d-e826ae2ff7d4"
      },
      "execution_count": 21,
      "outputs": [
        {
          "name": "stdout",
          "output_type": "stream",
          "text": [
            "Esperando prompt: Como criar um cardápio enxuto de comidas congeladas para vender?\n",
            "Resposta:  **Como Criar um Cardápio Enxuto de Comidas Congeladas para Vender**\n",
            "\n",
            "**1. Identifique seu Público-Alvo:**\n",
            "* Determine quem são seus clientes em potencial (por exemplo, famílias ocupadas, estudantes, pessoas que moram sozinhas).\n",
            "* Compreenda suas necessidades, preferências e restrições alimentares.\n",
            "\n",
            "**2. Escolha Itens Populares e Versáteis:**\n",
            "* Selecione pratos que sejam populares entre o seu público-alvo e que possam ser facilmente congelados e reaquecidos.\n",
            "* Considere itens como:\n",
            "    * Refeições principais (por exemplo, lasanha, frango assado, ensopados)\n",
            "    * Acompanhamentos (por exemplo, purê de batata, arroz, legumes assados)\n",
            "    * Aperitivos (por exemplo, rolinhos primavera, bolinhos de queijo)\n",
            "    * Sobremesas (por exemplo, tortas, brownies)\n",
            "\n",
            "**3. Mantenha a Simplicidade:**\n",
            "* Limite seu cardápio a uma variedade enxuta de itens.\n",
            "* Isso facilitará a preparação, o armazenamento e o pedido para os clientes.\n",
            "* Concentre-se em pratos que possam ser facilmente preparados em casa.\n",
            "\n",
            "**4. Considere Restrições Alimentares:**\n",
            "* Ofereça opções para pessoas com restrições alimentares comuns (por exemplo, sem glúten, sem laticínios, vegetarianas).\n",
            "* Isso ampliará seu alcance de mercado e atenderá a uma necessidade crescente.\n",
            "\n",
            "**5. Defina Preços Competitivos:**\n",
            "* Pesquise os preços de concorrentes e determine preços competitivos para seus itens.\n",
            "* Considere o custo dos ingredientes, mão de obra e embalagem.\n",
            "* Ofereça descontos para compras em massa ou itens combinados.\n",
            "\n",
            "**6. Embalagem e Armazenamento:**\n",
            "* Use embalagens de alta qualidade que preservem a frescura e evitem queimaduras por congelamento.\n",
            "* Forneça instruções claras de armazenamento e reaquecimento.\n",
            "* Armazene as refeições congeladas em um freezer limpo e organizado.\n",
            "\n",
            "**7. Marketing e Vendas:**\n",
            "* Crie um website ou página de mídia social para exibir seu cardápio e receber pedidos.\n",
            "* Faça parceria com empresas locais (por exemplo, supermercados, lojas de conveniência) para vender seus produtos.\n",
            "* Ofereça promoções e descontos para atrair novos clientes e recompensar os fiéis.\n",
            "\n",
            "**Exemplo de Cardápio Enxuto de Comidas Congeladas:**\n",
            "\n",
            "**Refeições Principais:**\n",
            "* Lasanha de Carne\n",
            "* Frango Assado com Batatas e Cenouras\n",
            "* Ensopado de Carne e Vegetais\n",
            "\n",
            "**Acompanhamentos:**\n",
            "* Purê de Batata\n",
            "* Arroz Integral\n",
            "* Legumes Assados\n",
            "\n",
            "**Aperitivos:**\n",
            "* Rolinhos Primavera de Vegetais\n",
            "* Bolinhos de Queijo\n",
            "\n",
            "**Sobremesas:**\n",
            "* Torta de Maçã\n",
            "* Brownies de Chocolate\n",
            "\n",
            "**Itens Adicionais (Opcional):**\n",
            "* Sopas e Caldos\n",
            "* Pizzas Congeladas\n",
            "* Sanduíches Congelados \n",
            "\n",
            "Esperando prompt: qual a melhor embalagem para vender esses tipos de comida?\n",
            "Resposta:  A melhor embalagem para vender comidas congeladas depende do tipo de alimento e do método de reaquecimento pretendido. Aqui estão algumas opções comuns:\n",
            "\n",
            "**Embalagens Flexíveis:**\n",
            "\n",
            "* **Sacos plásticos resistentes:** Adequados para itens menores, como porções individuais de sopas, ensopados e molhos.\n",
            "* **Sacos a vácuo:** Removem o ar para preservar o frescor e evitar queimaduras por congelamento. Ideais para carnes, peixes e vegetais.\n",
            "* **Filmes plásticos:** Podem ser usados para embrulhar itens individualmente ou criar embalagens maiores para vários itens.\n",
            "\n",
            "**Embalagens Rígidas:**\n",
            "\n",
            "* **Recipientes de plástico:** Duráveis e reutilizáveis, adequados para refeições maiores, acompanhamentos e sobremesas.\n",
            "* **Recipientes de alumínio:** Excelentes para conduzir calor e facilitar o reaquecimento no forno.\n",
            "* **Recipientes de papelão:** Ecológicos e adequados para itens que não precisam ser reaquecidos no forno (por exemplo, sanduíches congelados).\n",
            "\n",
            "**Considerações Específicas:**\n",
            "\n",
            "* **Resistência ao congelamento:** A embalagem deve ser capaz de suportar temperaturas de congelamento sem rachar ou vazar.\n",
            "* **Barreira de umidade e oxigênio:** A embalagem deve evitar que a umidade e o oxigênio entrem em contato com os alimentos, o que pode causar queimaduras por congelamento e deterioração.\n",
            "* **Instruções de reaquecimento:** A embalagem deve incluir instruções claras sobre como reaquecer o alimento com segurança.\n",
            "* **Apresentação:** A embalagem deve ser atraente e fornecer informações claras sobre o produto.\n",
            "\n",
            "**Recomendações:**\n",
            "\n",
            "* Para refeições principais, acompanhamentos e sopas, use recipientes de plástico ou alumínio resistentes ao congelamento.\n",
            "* Para porções individuais de sopas e molhos, use sacos plásticos resistentes ou sacos a vácuo.\n",
            "* Para itens que não precisam ser reaquecidos no forno, como sanduíches congelados, use recipientes de papelão.\n",
            "* Para itens delicados, como vegetais e frutas, use sacos a vácuo ou filme plástico para proteção extra. \n",
            "\n",
            "Esperando prompt: fim\n"
          ]
        }
      ]
    },
    {
      "cell_type": "code",
      "source": [
        "import textwrap\n",
        "from IPython.display import display\n",
        "from IPython.display import Markdown\n",
        "\n",
        "def to_markdown(text):\n",
        "  text = text.replace('.', ' *')\n",
        "  return Markdown(textwrap.indent(text, '> ', predicate=lambda _: True))\n",
        "\n",
        "# Imprimindo o histórico\n",
        "for message in chat.history:\n",
        "  display(to_markdown (f'**{message.role}**: {message.parts[0].text}'))\n",
        "  print('-----------------')"
      ],
      "metadata": {
        "colab": {
          "base_uri": "https://localhost:8080/",
          "height": 1000
        },
        "id": "Bky7O1rGwF30",
        "outputId": "a28bed6a-e73e-4478-be05-020df8c0f797"
      },
      "execution_count": 22,
      "outputs": [
        {
          "output_type": "display_data",
          "data": {
            "text/plain": [
              "<IPython.core.display.Markdown object>"
            ],
            "text/markdown": "> **user**: Como criar um cardápio enxuto de comidas congeladas para vender?"
          },
          "metadata": {}
        },
        {
          "output_type": "stream",
          "name": "stdout",
          "text": [
            "-----------------\n"
          ]
        },
        {
          "output_type": "display_data",
          "data": {
            "text/plain": [
              "<IPython.core.display.Markdown object>"
            ],
            "text/markdown": "> **model**: **Como Criar um Cardápio Enxuto de Comidas Congeladas para Vender**\n> \n> **1 * Identifique seu Público-Alvo:**\n> * Determine quem são seus clientes em potencial (por exemplo, famílias ocupadas, estudantes, pessoas que moram sozinhas) *\n> * Compreenda suas necessidades, preferências e restrições alimentares *\n> \n> **2 * Escolha Itens Populares e Versáteis:**\n> * Selecione pratos que sejam populares entre o seu público-alvo e que possam ser facilmente congelados e reaquecidos *\n> * Considere itens como:\n>     * Refeições principais (por exemplo, lasanha, frango assado, ensopados)\n>     * Acompanhamentos (por exemplo, purê de batata, arroz, legumes assados)\n>     * Aperitivos (por exemplo, rolinhos primavera, bolinhos de queijo)\n>     * Sobremesas (por exemplo, tortas, brownies)\n> \n> **3 * Mantenha a Simplicidade:**\n> * Limite seu cardápio a uma variedade enxuta de itens *\n> * Isso facilitará a preparação, o armazenamento e o pedido para os clientes *\n> * Concentre-se em pratos que possam ser facilmente preparados em casa *\n> \n> **4 * Considere Restrições Alimentares:**\n> * Ofereça opções para pessoas com restrições alimentares comuns (por exemplo, sem glúten, sem laticínios, vegetarianas) *\n> * Isso ampliará seu alcance de mercado e atenderá a uma necessidade crescente *\n> \n> **5 * Defina Preços Competitivos:**\n> * Pesquise os preços de concorrentes e determine preços competitivos para seus itens *\n> * Considere o custo dos ingredientes, mão de obra e embalagem *\n> * Ofereça descontos para compras em massa ou itens combinados *\n> \n> **6 * Embalagem e Armazenamento:**\n> * Use embalagens de alta qualidade que preservem a frescura e evitem queimaduras por congelamento *\n> * Forneça instruções claras de armazenamento e reaquecimento *\n> * Armazene as refeições congeladas em um freezer limpo e organizado *\n> \n> **7 * Marketing e Vendas:**\n> * Crie um website ou página de mídia social para exibir seu cardápio e receber pedidos *\n> * Faça parceria com empresas locais (por exemplo, supermercados, lojas de conveniência) para vender seus produtos *\n> * Ofereça promoções e descontos para atrair novos clientes e recompensar os fiéis *\n> \n> **Exemplo de Cardápio Enxuto de Comidas Congeladas:**\n> \n> * **Refeições Principais:**\n>     * Lasanha de Carne\n>     * Frango Assado com Batatas e Cenouras\n>     * Ensopado de Carne e Vegetais\n> * **Acompanhamentos:**\n>     * Purê de Batata\n>     * Arroz Integral\n>     * Legumes Assados\n> * **Aperitivos:**\n>     * Rolinhos Primavera de Vegetais\n>     * Bolinhos de Queijo\n> * **Sobremesas:**\n>     * Torta de Maçã\n>     * Brownies de Chocolate"
          },
          "metadata": {}
        },
        {
          "output_type": "stream",
          "name": "stdout",
          "text": [
            "-----------------\n"
          ]
        },
        {
          "output_type": "display_data",
          "data": {
            "text/plain": [
              "<IPython.core.display.Markdown object>"
            ],
            "text/markdown": "> **user**: Como criar um cardápio enxuto de comidas congeladas para vender?"
          },
          "metadata": {}
        },
        {
          "output_type": "stream",
          "name": "stdout",
          "text": [
            "-----------------\n"
          ]
        },
        {
          "output_type": "display_data",
          "data": {
            "text/plain": [
              "<IPython.core.display.Markdown object>"
            ],
            "text/markdown": "> **model**: **Como Criar um Cardápio Enxuto de Comidas Congeladas para Vender**\n> \n> **1 * Identifique seu Público-Alvo:**\n> * Determine quem são seus clientes em potencial (por exemplo, famílias ocupadas, estudantes, pessoas que moram sozinhas) *\n> * Compreenda suas necessidades, preferências e restrições alimentares *\n> \n> **2 * Escolha Itens Populares e Versáteis:**\n> * Selecione pratos que sejam populares entre o seu público-alvo e que possam ser facilmente congelados e reaquecidos *\n> * Considere itens como:\n>     * Refeições principais (por exemplo, lasanha, frango assado, ensopados)\n>     * Acompanhamentos (por exemplo, purê de batata, arroz, legumes assados)\n>     * Aperitivos (por exemplo, rolinhos primavera, bolinhos de queijo)\n>     * Sobremesas (por exemplo, tortas, brownies)\n> \n> **3 * Mantenha a Simplicidade:**\n> * Limite seu cardápio a uma variedade enxuta de itens *\n> * Isso facilitará a preparação, o armazenamento e o pedido para os clientes *\n> * Concentre-se em pratos que possam ser facilmente preparados em casa *\n> \n> **4 * Considere Restrições Alimentares:**\n> * Ofereça opções para pessoas com restrições alimentares comuns (por exemplo, sem glúten, sem laticínios, vegetarianas) *\n> * Isso ampliará seu alcance de mercado e atenderá a uma necessidade crescente *\n> \n> **5 * Defina Preços Competitivos:**\n> * Pesquise os preços de concorrentes e determine preços competitivos para seus itens *\n> * Considere o custo dos ingredientes, mão de obra e embalagem *\n> * Ofereça descontos para compras em massa ou itens combinados *\n> \n> **6 * Embalagem e Armazenamento:**\n> * Use embalagens de alta qualidade que preservem a frescura e evitem queimaduras por congelamento *\n> * Forneça instruções claras de armazenamento e reaquecimento *\n> * Armazene as refeições congeladas em um freezer limpo e organizado *\n> \n> **7 * Marketing e Vendas:**\n> * Crie um website ou página de mídia social para exibir seu cardápio e receber pedidos *\n> * Faça parceria com empresas locais (por exemplo, supermercados, lojas de conveniência) para vender seus produtos *\n> * Ofereça promoções e descontos para atrair novos clientes e recompensar os fiéis *\n> \n> **Exemplo de Cardápio Enxuto de Comidas Congeladas:**\n> \n> **Refeições Principais:**\n> * Lasanha de Carne\n> * Frango Assado com Batatas e Cenouras\n> * Ensopado de Carne e Vegetais\n> \n> **Acompanhamentos:**\n> * Purê de Batata\n> * Arroz Integral\n> * Legumes Assados\n> \n> **Aperitivos:**\n> * Rolinhos Primavera de Vegetais\n> * Bolinhos de Queijo\n> \n> **Sobremesas:**\n> * Torta de Maçã\n> * Brownies de Chocolate\n> \n> **Itens Adicionais (Opcional):**\n> * Sopas e Caldos\n> * Pizzas Congeladas\n> * Sanduíches Congelados"
          },
          "metadata": {}
        },
        {
          "output_type": "stream",
          "name": "stdout",
          "text": [
            "-----------------\n"
          ]
        },
        {
          "output_type": "display_data",
          "data": {
            "text/plain": [
              "<IPython.core.display.Markdown object>"
            ],
            "text/markdown": "> **user**: qual a melhor embalagem para vender esses tipos de comida?"
          },
          "metadata": {}
        },
        {
          "output_type": "stream",
          "name": "stdout",
          "text": [
            "-----------------\n"
          ]
        },
        {
          "output_type": "display_data",
          "data": {
            "text/plain": [
              "<IPython.core.display.Markdown object>"
            ],
            "text/markdown": "> **model**: A melhor embalagem para vender comidas congeladas depende do tipo de alimento e do método de reaquecimento pretendido * Aqui estão algumas opções comuns:\n> \n> **Embalagens Flexíveis:**\n> \n> * **Sacos plásticos resistentes:** Adequados para itens menores, como porções individuais de sopas, ensopados e molhos *\n> * **Sacos a vácuo:** Removem o ar para preservar o frescor e evitar queimaduras por congelamento * Ideais para carnes, peixes e vegetais *\n> * **Filmes plásticos:** Podem ser usados para embrulhar itens individualmente ou criar embalagens maiores para vários itens *\n> \n> **Embalagens Rígidas:**\n> \n> * **Recipientes de plástico:** Duráveis e reutilizáveis, adequados para refeições maiores, acompanhamentos e sobremesas *\n> * **Recipientes de alumínio:** Excelentes para conduzir calor e facilitar o reaquecimento no forno *\n> * **Recipientes de papelão:** Ecológicos e adequados para itens que não precisam ser reaquecidos no forno (por exemplo, sanduíches congelados) *\n> \n> **Considerações Específicas:**\n> \n> * **Resistência ao congelamento:** A embalagem deve ser capaz de suportar temperaturas de congelamento sem rachar ou vazar *\n> * **Barreira de umidade e oxigênio:** A embalagem deve evitar que a umidade e o oxigênio entrem em contato com os alimentos, o que pode causar queimaduras por congelamento e deterioração *\n> * **Instruções de reaquecimento:** A embalagem deve incluir instruções claras sobre como reaquecer o alimento com segurança *\n> * **Apresentação:** A embalagem deve ser atraente e fornecer informações claras sobre o produto *\n> \n> **Recomendações:**\n> \n> * Para refeições principais, acompanhamentos e sopas, use recipientes de plástico ou alumínio resistentes ao congelamento *\n> * Para porções individuais de sopas e molhos, use sacos plásticos resistentes ou sacos a vácuo *\n> * Para itens que não precisam ser reaquecidos no forno, como sanduíches congelados, use recipientes de papelão *\n> * Para itens delicados, como vegetais e frutas, use sacos a vácuo ou filme plástico para proteção extra *"
          },
          "metadata": {}
        },
        {
          "output_type": "stream",
          "name": "stdout",
          "text": [
            "-----------------\n"
          ]
        }
      ]
    },
    {
      "cell_type": "code",
      "source": [
        "chat.history"
      ],
      "metadata": {
        "colab": {
          "base_uri": "https://localhost:8080/"
        },
        "id": "zG1Z_tu-wv_W",
        "outputId": "494a29d3-3fe5-4c15-8e42-c1b77d0bcb85"
      },
      "execution_count": 24,
      "outputs": [
        {
          "output_type": "execute_result",
          "data": {
            "text/plain": [
              "[parts {\n",
              "   text: \"Como criar um card\\303\\241pio enxuto de comidas congeladas para vender?\"\n",
              " }\n",
              " role: \"user\",\n",
              " parts {\n",
              "   text: \"**Como Criar um Card\\303\\241pio Enxuto de Comidas Congeladas para Vender**\\n\\n**1. Identifique seu P\\303\\272blico-Alvo:**\\n* Determine quem s\\303\\243o seus clientes em potencial (por exemplo, fam\\303\\255lias ocupadas, estudantes, pessoas que moram sozinhas).\\n* Compreenda suas necessidades, prefer\\303\\252ncias e restri\\303\\247\\303\\265es alimentares.\\n\\n**2. Escolha Itens Populares e Vers\\303\\241teis:**\\n* Selecione pratos que sejam populares entre o seu p\\303\\272blico-alvo e que possam ser facilmente congelados e reaquecidos.\\n* Considere itens como:\\n    * Refei\\303\\247\\303\\265es principais (por exemplo, lasanha, frango assado, ensopados)\\n    * Acompanhamentos (por exemplo, pur\\303\\252 de batata, arroz, legumes assados)\\n    * Aperitivos (por exemplo, rolinhos primavera, bolinhos de queijo)\\n    * Sobremesas (por exemplo, tortas, brownies)\\n\\n**3. Mantenha a Simplicidade:**\\n* Limite seu card\\303\\241pio a uma variedade enxuta de itens.\\n* Isso facilitar\\303\\241 a prepara\\303\\247\\303\\243o, o armazenamento e o pedido para os clientes.\\n* Concentre-se em pratos que possam ser facilmente preparados em casa.\\n\\n**4. Considere Restri\\303\\247\\303\\265es Alimentares:**\\n* Ofere\\303\\247a op\\303\\247\\303\\265es para pessoas com restri\\303\\247\\303\\265es alimentares comuns (por exemplo, sem gl\\303\\272ten, sem latic\\303\\255nios, vegetarianas).\\n* Isso ampliar\\303\\241 seu alcance de mercado e atender\\303\\241 a uma necessidade crescente.\\n\\n**5. Defina Pre\\303\\247os Competitivos:**\\n* Pesquise os pre\\303\\247os de concorrentes e determine pre\\303\\247os competitivos para seus itens.\\n* Considere o custo dos ingredientes, m\\303\\243o de obra e embalagem.\\n* Ofere\\303\\247a descontos para compras em massa ou itens combinados.\\n\\n**6. Embalagem e Armazenamento:**\\n* Use embalagens de alta qualidade que preservem a frescura e evitem queimaduras por congelamento.\\n* Forne\\303\\247a instru\\303\\247\\303\\265es claras de armazenamento e reaquecimento.\\n* Armazene as refei\\303\\247\\303\\265es congeladas em um freezer limpo e organizado.\\n\\n**7. Marketing e Vendas:**\\n* Crie um website ou p\\303\\241gina de m\\303\\255dia social para exibir seu card\\303\\241pio e receber pedidos.\\n* Fa\\303\\247a parceria com empresas locais (por exemplo, supermercados, lojas de conveni\\303\\252ncia) para vender seus produtos.\\n* Ofere\\303\\247a promo\\303\\247\\303\\265es e descontos para atrair novos clientes e recompensar os fi\\303\\251is.\\n\\n**Exemplo de Card\\303\\241pio Enxuto de Comidas Congeladas:**\\n\\n* **Refei\\303\\247\\303\\265es Principais:**\\n    * Lasanha de Carne\\n    * Frango Assado com Batatas e Cenouras\\n    * Ensopado de Carne e Vegetais\\n* **Acompanhamentos:**\\n    * Pur\\303\\252 de Batata\\n    * Arroz Integral\\n    * Legumes Assados\\n* **Aperitivos:**\\n    * Rolinhos Primavera de Vegetais\\n    * Bolinhos de Queijo\\n* **Sobremesas:**\\n    * Torta de Ma\\303\\247\\303\\243\\n    * Brownies de Chocolate\"\n",
              " }\n",
              " role: \"model\",\n",
              " parts {\n",
              "   text: \"Como criar um card\\303\\241pio enxuto de comidas congeladas para vender?\"\n",
              " }\n",
              " role: \"user\",\n",
              " parts {\n",
              "   text: \"**Como Criar um Card\\303\\241pio Enxuto de Comidas Congeladas para Vender**\\n\\n**1. Identifique seu P\\303\\272blico-Alvo:**\\n* Determine quem s\\303\\243o seus clientes em potencial (por exemplo, fam\\303\\255lias ocupadas, estudantes, pessoas que moram sozinhas).\\n* Compreenda suas necessidades, prefer\\303\\252ncias e restri\\303\\247\\303\\265es alimentares.\\n\\n**2. Escolha Itens Populares e Vers\\303\\241teis:**\\n* Selecione pratos que sejam populares entre o seu p\\303\\272blico-alvo e que possam ser facilmente congelados e reaquecidos.\\n* Considere itens como:\\n    * Refei\\303\\247\\303\\265es principais (por exemplo, lasanha, frango assado, ensopados)\\n    * Acompanhamentos (por exemplo, pur\\303\\252 de batata, arroz, legumes assados)\\n    * Aperitivos (por exemplo, rolinhos primavera, bolinhos de queijo)\\n    * Sobremesas (por exemplo, tortas, brownies)\\n\\n**3. Mantenha a Simplicidade:**\\n* Limite seu card\\303\\241pio a uma variedade enxuta de itens.\\n* Isso facilitar\\303\\241 a prepara\\303\\247\\303\\243o, o armazenamento e o pedido para os clientes.\\n* Concentre-se em pratos que possam ser facilmente preparados em casa.\\n\\n**4. Considere Restri\\303\\247\\303\\265es Alimentares:**\\n* Ofere\\303\\247a op\\303\\247\\303\\265es para pessoas com restri\\303\\247\\303\\265es alimentares comuns (por exemplo, sem gl\\303\\272ten, sem latic\\303\\255nios, vegetarianas).\\n* Isso ampliar\\303\\241 seu alcance de mercado e atender\\303\\241 a uma necessidade crescente.\\n\\n**5. Defina Pre\\303\\247os Competitivos:**\\n* Pesquise os pre\\303\\247os de concorrentes e determine pre\\303\\247os competitivos para seus itens.\\n* Considere o custo dos ingredientes, m\\303\\243o de obra e embalagem.\\n* Ofere\\303\\247a descontos para compras em massa ou itens combinados.\\n\\n**6. Embalagem e Armazenamento:**\\n* Use embalagens de alta qualidade que preservem a frescura e evitem queimaduras por congelamento.\\n* Forne\\303\\247a instru\\303\\247\\303\\265es claras de armazenamento e reaquecimento.\\n* Armazene as refei\\303\\247\\303\\265es congeladas em um freezer limpo e organizado.\\n\\n**7. Marketing e Vendas:**\\n* Crie um website ou p\\303\\241gina de m\\303\\255dia social para exibir seu card\\303\\241pio e receber pedidos.\\n* Fa\\303\\247a parceria com empresas locais (por exemplo, supermercados, lojas de conveni\\303\\252ncia) para vender seus produtos.\\n* Ofere\\303\\247a promo\\303\\247\\303\\265es e descontos para atrair novos clientes e recompensar os fi\\303\\251is.\\n\\n**Exemplo de Card\\303\\241pio Enxuto de Comidas Congeladas:**\\n\\n**Refei\\303\\247\\303\\265es Principais:**\\n* Lasanha de Carne\\n* Frango Assado com Batatas e Cenouras\\n* Ensopado de Carne e Vegetais\\n\\n**Acompanhamentos:**\\n* Pur\\303\\252 de Batata\\n* Arroz Integral\\n* Legumes Assados\\n\\n**Aperitivos:**\\n* Rolinhos Primavera de Vegetais\\n* Bolinhos de Queijo\\n\\n**Sobremesas:**\\n* Torta de Ma\\303\\247\\303\\243\\n* Brownies de Chocolate\\n\\n**Itens Adicionais (Opcional):**\\n* Sopas e Caldos\\n* Pizzas Congeladas\\n* Sandu\\303\\255ches Congelados\"\n",
              " }\n",
              " role: \"model\",\n",
              " parts {\n",
              "   text: \"qual a melhor embalagem para vender esses tipos de comida?\"\n",
              " }\n",
              " role: \"user\",\n",
              " parts {\n",
              "   text: \"A melhor embalagem para vender comidas congeladas depende do tipo de alimento e do m\\303\\251todo de reaquecimento pretendido. Aqui est\\303\\243o algumas op\\303\\247\\303\\265es comuns:\\n\\n**Embalagens Flex\\303\\255veis:**\\n\\n* **Sacos pl\\303\\241sticos resistentes:** Adequados para itens menores, como por\\303\\247\\303\\265es individuais de sopas, ensopados e molhos.\\n* **Sacos a v\\303\\241cuo:** Removem o ar para preservar o frescor e evitar queimaduras por congelamento. Ideais para carnes, peixes e vegetais.\\n* **Filmes pl\\303\\241sticos:** Podem ser usados para embrulhar itens individualmente ou criar embalagens maiores para v\\303\\241rios itens.\\n\\n**Embalagens R\\303\\255gidas:**\\n\\n* **Recipientes de pl\\303\\241stico:** Dur\\303\\241veis e reutiliz\\303\\241veis, adequados para refei\\303\\247\\303\\265es maiores, acompanhamentos e sobremesas.\\n* **Recipientes de alum\\303\\255nio:** Excelentes para conduzir calor e facilitar o reaquecimento no forno.\\n* **Recipientes de papel\\303\\243o:** Ecol\\303\\263gicos e adequados para itens que n\\303\\243o precisam ser reaquecidos no forno (por exemplo, sandu\\303\\255ches congelados).\\n\\n**Considera\\303\\247\\303\\265es Espec\\303\\255ficas:**\\n\\n* **Resist\\303\\252ncia ao congelamento:** A embalagem deve ser capaz de suportar temperaturas de congelamento sem rachar ou vazar.\\n* **Barreira de umidade e oxig\\303\\252nio:** A embalagem deve evitar que a umidade e o oxig\\303\\252nio entrem em contato com os alimentos, o que pode causar queimaduras por congelamento e deteriora\\303\\247\\303\\243o.\\n* **Instru\\303\\247\\303\\265es de reaquecimento:** A embalagem deve incluir instru\\303\\247\\303\\265es claras sobre como reaquecer o alimento com seguran\\303\\247a.\\n* **Apresenta\\303\\247\\303\\243o:** A embalagem deve ser atraente e fornecer informa\\303\\247\\303\\265es claras sobre o produto.\\n\\n**Recomenda\\303\\247\\303\\265es:**\\n\\n* Para refei\\303\\247\\303\\265es principais, acompanhamentos e sopas, use recipientes de pl\\303\\241stico ou alum\\303\\255nio resistentes ao congelamento.\\n* Para por\\303\\247\\303\\265es individuais de sopas e molhos, use sacos pl\\303\\241sticos resistentes ou sacos a v\\303\\241cuo.\\n* Para itens que n\\303\\243o precisam ser reaquecidos no forno, como sandu\\303\\255ches congelados, use recipientes de papel\\303\\243o.\\n* Para itens delicados, como vegetais e frutas, use sacos a v\\303\\241cuo ou filme pl\\303\\241stico para prote\\303\\247\\303\\243o extra.\"\n",
              " }\n",
              " role: \"model\"]"
            ]
          },
          "metadata": {},
          "execution_count": 24
        }
      ]
    }
  ]
}